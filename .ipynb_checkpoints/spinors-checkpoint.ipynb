{
 "cells": [
  {
   "cell_type": "code",
   "execution_count": 8,
   "id": "4322b22e-3151-4166-9421-a5f746698a17",
   "metadata": {},
   "outputs": [],
   "source": [
    "import numpy as np\n",
    "import matplotlib.pyplot as plt\n",
    "import scipy as sp\n",
    "import sympy as smp\n",
    "from scipy.integrate import odeint\n",
    "from scipy.integrate import solve_ivp"
   ]
  },
  {
   "cell_type": "markdown",
   "id": "e90f211f-3f35-4ee2-ac0d-ee2203324f84",
   "metadata": {},
   "source": [
    "# The Theory of Spinors - E. Cartan\n",
    "This is a set of notes based on the book The Theory of Spinors by Elie Cartan. Concepts from this book will be explored here."
   ]
  },
  {
   "cell_type": "code",
   "execution_count": 13,
   "id": "3410b4a6-82aa-4f7a-b2cc-b52d181b9965",
   "metadata": {},
   "outputs": [
    {
     "name": "stdout",
     "output_type": "stream",
     "text": [
      "derivative of sin(x)*e ^ x :  exp(x)*sin(x) + exp(x)*cos(x)\n"
     ]
    }
   ],
   "source": [
    "x = smp.Symbol('x')\n",
    "ans1 = smp.diff(smp.sin(x)*smp.exp(x), x)\n",
    "print(\"derivative of sin(x)*e ^ x : \", ans1)"
   ]
  },
  {
   "cell_type": "markdown",
   "id": "18950ae9-53c0-455b-a977-938401f5a775",
   "metadata": {},
   "source": [
    "Let $ y = \\sin{x} e^{x} $\n",
    "Then, $\\frac{dy}{dx} = ...$"
   ]
  },
  {
   "cell_type": "code",
   "execution_count": null,
   "id": "59cb9de6-958c-4677-a6cf-f383c18c8d33",
   "metadata": {},
   "outputs": [],
   "source": []
  }
 ],
 "metadata": {
  "kernelspec": {
   "display_name": "Python 3",
   "language": "python",
   "name": "python3"
  },
  "language_info": {
   "codemirror_mode": {
    "name": "ipython",
    "version": 3
   },
   "file_extension": ".py",
   "mimetype": "text/x-python",
   "name": "python",
   "nbconvert_exporter": "python",
   "pygments_lexer": "ipython3",
   "version": "3.8.8"
  }
 },
 "nbformat": 4,
 "nbformat_minor": 5
}
