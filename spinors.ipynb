{
 "cells": [
  {
   "cell_type": "code",
   "execution_count": 4,
   "id": "4322b22e-3151-4166-9421-a5f746698a17",
   "metadata": {},
   "outputs": [],
   "source": [
    "import numpy as np\n",
    "import scipy as sp\n",
    "import sympy as smp"
   ]
  },
  {
   "cell_type": "markdown",
   "id": "e90f211f-3f35-4ee2-ac0d-ee2203324f84",
   "metadata": {},
   "source": [
    "# The Theory of Spinors - E. Cartan\n",
    "This is a set of notes based on the book The Theory of Spinors by Elie Cartan. Concepts from this book will be explored here."
   ]
  },
  {
   "cell_type": "code",
   "execution_count": null,
   "id": "3410b4a6-82aa-4f7a-b2cc-b52d181b9965",
   "metadata": {},
   "outputs": [],
   "source": []
  },
  {
   "cell_type": "code",
   "execution_count": null,
   "id": "9288d82a-b30e-4a2f-9f5f-2b40ee86b984",
   "metadata": {},
   "outputs": [],
   "source": []
  }
 ],
 "metadata": {
  "kernelspec": {
   "display_name": "Python 3",
   "language": "python",
   "name": "python3"
  },
  "language_info": {
   "codemirror_mode": {
    "name": "ipython",
    "version": 3
   },
   "file_extension": ".py",
   "mimetype": "text/x-python",
   "name": "python",
   "nbconvert_exporter": "python",
   "pygments_lexer": "ipython3",
   "version": "3.8.8"
  }
 },
 "nbformat": 4,
 "nbformat_minor": 5
}
